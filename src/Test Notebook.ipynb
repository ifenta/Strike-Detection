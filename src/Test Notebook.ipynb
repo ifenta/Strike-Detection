{
 "cells": [
  {
   "cell_type": "code",
   "execution_count": 2,
   "metadata": {},
   "outputs": [
    {
     "output_type": "error",
     "ename": "ModuleNotFoundError",
     "evalue": "No module named 'tensorflow'",
     "traceback": [
      "\u001b[0;31m---------------------------------------------------------------------------\u001b[0m",
      "\u001b[0;31mModuleNotFoundError\u001b[0m                       Traceback (most recent call last)",
      "\u001b[0;32m<ipython-input-2-b4b0e306c778>\u001b[0m in \u001b[0;36m<module>\u001b[0;34m\u001b[0m\n\u001b[1;32m      1\u001b[0m \u001b[0;32mimport\u001b[0m \u001b[0mpandas\u001b[0m \u001b[0;32mas\u001b[0m \u001b[0mpd\u001b[0m\u001b[0;34m\u001b[0m\u001b[0;34m\u001b[0m\u001b[0m\n\u001b[1;32m      2\u001b[0m \u001b[0;32mimport\u001b[0m \u001b[0mast\u001b[0m\u001b[0;34m\u001b[0m\u001b[0;34m\u001b[0m\u001b[0m\n\u001b[0;32m----> 3\u001b[0;31m \u001b[0;32mimport\u001b[0m \u001b[0mtensorflow\u001b[0m \u001b[0;32mas\u001b[0m \u001b[0mtf\u001b[0m\u001b[0;34m\u001b[0m\u001b[0;34m\u001b[0m\u001b[0m\n\u001b[0m\u001b[1;32m      4\u001b[0m \u001b[0;32mfrom\u001b[0m \u001b[0msklearn\u001b[0m\u001b[0;34m.\u001b[0m\u001b[0mmodel_selection\u001b[0m \u001b[0;32mimport\u001b[0m \u001b[0mtrain_test_split\u001b[0m\u001b[0;34m\u001b[0m\u001b[0;34m\u001b[0m\u001b[0m\n\u001b[1;32m      5\u001b[0m \u001b[0;32mimport\u001b[0m \u001b[0mrandom\u001b[0m\u001b[0;34m\u001b[0m\u001b[0;34m\u001b[0m\u001b[0m\n",
      "\u001b[0;31mModuleNotFoundError\u001b[0m: No module named 'tensorflow'"
     ]
    }
   ],
   "source": [
    "import pandas as pd\n",
    "import ast\n",
    "import tensorflow as tf\n",
    "from sklearn.model_selection import train_test_split\n",
    "import random\n"
   ]
  },
  {
   "cell_type": "code",
   "execution_count": 41,
   "metadata": {},
   "outputs": [],
   "source": [
    "strike_data = pd.read_csv(\"total_strike_data.csv\")"
   ]
  },
  {
   "cell_type": "code",
   "execution_count": 42,
   "metadata": {},
   "outputs": [
    {
     "output_type": "execute_result",
     "data": {
      "text/plain": [
       "                                                data  label\n",
       "0  [[29971.0, 29980.0, 29988.0, 29997.0, 30005.0,...    jab\n",
       "1  [[37278.0, 37286.0, 37294.0, 37302.0, 37310.0,...  upper\n",
       "2  [[43689.0, 43697.0, 43705.0, 43713.0, 43721.0,...  upper\n",
       "3  [[49913.0, 49922.0, 49931.0, 49938.0, 49947.0,...   hook\n",
       "4  [[56391.0, 56399.0, 56407.0, 56416.0, 56424.0,...  upper"
      ],
      "text/html": "<div>\n<style scoped>\n    .dataframe tbody tr th:only-of-type {\n        vertical-align: middle;\n    }\n\n    .dataframe tbody tr th {\n        vertical-align: top;\n    }\n\n    .dataframe thead th {\n        text-align: right;\n    }\n</style>\n<table border=\"1\" class=\"dataframe\">\n  <thead>\n    <tr style=\"text-align: right;\">\n      <th></th>\n      <th>data</th>\n      <th>label</th>\n    </tr>\n  </thead>\n  <tbody>\n    <tr>\n      <th>0</th>\n      <td>[[29971.0, 29980.0, 29988.0, 29997.0, 30005.0,...</td>\n      <td>jab</td>\n    </tr>\n    <tr>\n      <th>1</th>\n      <td>[[37278.0, 37286.0, 37294.0, 37302.0, 37310.0,...</td>\n      <td>upper</td>\n    </tr>\n    <tr>\n      <th>2</th>\n      <td>[[43689.0, 43697.0, 43705.0, 43713.0, 43721.0,...</td>\n      <td>upper</td>\n    </tr>\n    <tr>\n      <th>3</th>\n      <td>[[49913.0, 49922.0, 49931.0, 49938.0, 49947.0,...</td>\n      <td>hook</td>\n    </tr>\n    <tr>\n      <th>4</th>\n      <td>[[56391.0, 56399.0, 56407.0, 56416.0, 56424.0,...</td>\n      <td>upper</td>\n    </tr>\n  </tbody>\n</table>\n</div>"
     },
     "metadata": {},
     "execution_count": 42
    }
   ],
   "source": [
    "strike_data.head()"
   ]
  },
  {
   "cell_type": "code",
   "execution_count": 43,
   "metadata": {},
   "outputs": [],
   "source": [
    "# Change type of punch to numbers (jab - 0, upper - 1, hook - 2)\n",
    "punches = ['jab', 'upper', 'hook']\n",
    "for i in range(len(strike_data['label'])):\n",
    "    strike_data['label'][i] = punches.index(strike_data['label'][i])"
   ]
  },
  {
   "cell_type": "code",
   "execution_count": 44,
   "metadata": {
    "tags": []
   },
   "outputs": [],
   "source": [
    "# Transform string list to actual lists seperated into different readings\n",
    "list_strike_data = [ ast.literal_eval(strike_data['data'][i]) for i in range(len(strike_data['data'])) ]\n",
    "time = [ list_strike_data[i][0] for i in range(len(strike_data['data'])) ] \n",
    "accx = [ list_strike_data[i][1] for i in range(len(strike_data['data'])) ] \n",
    "accy = [ list_strike_data[i][2] for i in range(len(strike_data['data'])) ] \n",
    "accz = [ list_strike_data[i][3] for i in range(len(strike_data['data'])) ] \n",
    "magx = [ list_strike_data[i][4] for i in range(len(strike_data['data'])) ] \n",
    "magy = [ list_strike_data[i][5] for i in range(len(strike_data['data'])) ] \n",
    "magz = [ list_strike_data[i][6] for i in range(len(strike_data['data'])) ] \n",
    "gyrox = [ list_strike_data[i][7] for i in range(len(strike_data['data'])) ] \n",
    "gyroy = [ list_strike_data[i][8] for i in range(len(strike_data['data'])) ] \n",
    "gyroz = [ list_strike_data[i][9] for i in range(len(strike_data['data'])) ] \n",
    "strikes = strike_data['label'].to_list()\n",
    "\n",
    "# Base time to 0\n",
    "for i in range(len(time)):\n",
    "    min_time = min(time[i])\n",
    "    for j in range(len(time[i])):\n",
    "        time[i][j] -= min_time\n",
    "\n",
    "data_list = [time, accx, accy, accz, magx, magy, magz, gyrox, gyroy, gyroz, strikes]\n",
    "columns =['time', 'accx', 'accy', 'accz', 'magx', 'magy', 'magz', 'gyrox', 'gyroy', 'gyroz', 'strikes']"
   ]
  },
  {
   "cell_type": "code",
   "execution_count": 45,
   "metadata": {},
   "outputs": [
    {
     "output_type": "execute_result",
     "data": {
      "text/plain": [
       "[24, 73, 194, 202, 207, 243, 442, 480, 493, 544, 655, 758, 805, 847, 928, 1012]"
      ]
     },
     "metadata": {},
     "execution_count": 45
    }
   ],
   "source": [
    "# Find data samples that have less than 110 readings\n",
    "list_lengths = [ len(time[i]) for i in range(len(time)) ]\n",
    "\n",
    "bad = []\n",
    "\n",
    "for i in range(len(list_lengths)):\n",
    "    if(list_lengths[i]<110):\n",
    "        bad.append(i)\n",
    "bad\n"
   ]
  },
  {
   "cell_type": "code",
   "execution_count": 46,
   "metadata": {},
   "outputs": [],
   "source": [
    "# Look at bad indexes and pop them out of main data\n",
    "for index in bad[-1::-1]:\n",
    "    for i in range(len(columns)):\n",
    "        data_list[i].pop(index)\n",
    "\n"
   ]
  },
  {
   "cell_type": "code",
   "execution_count": 47,
   "metadata": {},
   "outputs": [],
   "source": [
    "# Chop off data from the front to make all samples equal length\n",
    "for reading in data_list:\n",
    "    for sample in reading:\n",
    "        if(type(sample) == int):\n",
    "            continue\n",
    "        while(len(sample) > 110):\n",
    "            sample.pop(0)"
   ]
  },
  {
   "cell_type": "code",
   "execution_count": 48,
   "metadata": {},
   "outputs": [],
   "source": [
    "# Transform data_list so each sample point in one long list with time + all IMU readings\n",
    "new_data_list = []\n",
    "\n",
    "for i in range(len(data_list[0])):\n",
    "    new_data_list.append([])\n",
    "    for j in range(len(data_list)-1):\n",
    "        new_data_list[i] += data_list[j][i]\n",
    "\n",
    "#len(new_data_list[0])\n",
    "new_data_list_strikes = data_list[-1]"
   ]
  },
  {
   "cell_type": "code",
   "execution_count": 49,
   "metadata": {},
   "outputs": [],
   "source": [
    "tf.compat.v1.disable_eager_execution()\n",
    "\n",
    "x = tf.compat.v1.placeholder(tf.float32,shape=[None, 1100])\n",
    "W = tf.Variable(tf.zeros([1100, 3]))\n",
    "b = tf.Variable(tf.zeros([3]))\n",
    "# Create the Graph\n",
    "y = tf.matmul(x,W) + b \n",
    "y_true = tf.compat.v1.placeholder(tf.float32,[None, 3])"
   ]
  },
  {
   "cell_type": "code",
   "execution_count": 50,
   "metadata": {},
   "outputs": [],
   "source": [
    "cross_entropy = tf.reduce_mean(tf.nn.softmax_cross_entropy_with_logits(labels=y_true, logits=y))"
   ]
  },
  {
   "cell_type": "code",
   "execution_count": 51,
   "metadata": {},
   "outputs": [],
   "source": [
    "optimizer = tf.compat.v1.train.GradientDescentOptimizer(learning_rate=0.5)"
   ]
  },
  {
   "cell_type": "code",
   "execution_count": 52,
   "metadata": {},
   "outputs": [],
   "source": [
    "train = optimizer.minimize(cross_entropy)"
   ]
  },
  {
   "cell_type": "code",
   "execution_count": 53,
   "metadata": {},
   "outputs": [],
   "source": [
    "init = tf.compat.v1.global_variables_initializer()"
   ]
  },
  {
   "cell_type": "code",
   "execution_count": 54,
   "metadata": {},
   "outputs": [],
   "source": [
    "class strike:\n",
    "    # data = List[List] - [ [time, accx, ..., magz], [time,accx ..], ...  ]\n",
    "    def __init__(self, data, results, train_per = 0.67):\n",
    "        self.data = data\n",
    "        self.results = results\n",
    "        self.index = 0\n",
    "        self.data_len = len(self.data)\n",
    "\n",
    "        self.X_train, self.X_test, self.y_train, self.y_test = self.train_test_split(train_per)\n",
    "\n",
    "    def next_batch(self, amount):\n",
    "        new_index = self.index+amount\n",
    "        if(new_index > len(self.X_train)):\n",
    "            new_index = new_index - len(self.X_train)\n",
    "            batch_x = self.X_train[self.index:] + self.X_train[0:new_index]\n",
    "            batch_y = self.y_train[self.index:] + self.y_train[0:new_index]\n",
    "            self.index =new_index\n",
    "\n",
    "            return [batch_x, batch_y]\n",
    "\n",
    "        return_data = [ self.X_train[self.index:new_index], self.y_train[self.index:new_index] ]\n",
    "        self.index = new_index\n",
    "        return return_data\n",
    "\n",
    "    def train_test_split(self, train_percent):\n",
    "        test_index = []\n",
    "        train_index = []\n",
    "        train_amount = round(self.data_len*train_percent)\n",
    "        #create random train indexes\n",
    "        for _ in range(train_amount):\n",
    "            index = 0\n",
    "            while True:\n",
    "                index = random.randint(0,self.data_len-1)\n",
    "                if(index not in test_index):\n",
    "                    break\n",
    "            train_index.append(index)    \n",
    "        #create remaining test indexes\n",
    "        test_index = list(range(0,self.data_len))\n",
    "        for index in train_index:\n",
    "            if index in test_index:\n",
    "                test_index.remove(index)\n",
    "\n",
    "        #seperating training and test data\n",
    "        X_train = []\n",
    "        X_test =  []\n",
    "        y_train = [ self.results[index] for index in train_index ]\n",
    "        y_test =  [ self.results[index] for index in test_index ]\n",
    "\n",
    "        for index in train_index:\n",
    "            X_train.append(self.data[index])\n",
    "        for index in test_index:\n",
    "            X_test.append(self.data[index])\n",
    "\n",
    "        return [X_train, X_test, y_train, y_test]\n"
   ]
  },
  {
   "cell_type": "code",
   "execution_count": 55,
   "metadata": {},
   "outputs": [],
   "source": [
    "strike = strike(data_list, new_data_list_strikes)"
   ]
  },
  {
   "cell_type": "code",
   "execution_count": 60,
   "metadata": {},
   "outputs": [
    {
     "output_type": "stream",
     "name": "stdout",
     "text": [
      "step:0\n"
     ]
    },
    {
     "output_type": "error",
     "ename": "ValueError",
     "evalue": "Cannot feed value of shape (7, 1017, 110) for Tensor 'Placeholder_5:0', which has shape '(None, 1100)'",
     "traceback": [
      "\u001b[0;31m---------------------------------------------------------------------------\u001b[0m",
      "\u001b[0;31mValueError\u001b[0m                                Traceback (most recent call last)",
      "\u001b[0;32m<ipython-input-60-0af20a4810e7>\u001b[0m in \u001b[0;36m<module>\u001b[0;34m\u001b[0m\n\u001b[1;32m     10\u001b[0m         \u001b[0mbatch_x\u001b[0m \u001b[0;34m,\u001b[0m \u001b[0mbatch_y\u001b[0m \u001b[0;34m=\u001b[0m \u001b[0mstrike\u001b[0m\u001b[0;34m.\u001b[0m\u001b[0mnext_batch\u001b[0m\u001b[0;34m(\u001b[0m\u001b[0;36m100\u001b[0m\u001b[0;34m)\u001b[0m\u001b[0;34m\u001b[0m\u001b[0;34m\u001b[0m\u001b[0m\n\u001b[1;32m     11\u001b[0m \u001b[0;34m\u001b[0m\u001b[0m\n\u001b[0;32m---> 12\u001b[0;31m         \u001b[0msess\u001b[0m\u001b[0;34m.\u001b[0m\u001b[0mrun\u001b[0m\u001b[0;34m(\u001b[0m\u001b[0mtrain\u001b[0m\u001b[0;34m,\u001b[0m\u001b[0mfeed_dict\u001b[0m\u001b[0;34m=\u001b[0m\u001b[0;34m{\u001b[0m\u001b[0mx\u001b[0m\u001b[0;34m:\u001b[0m\u001b[0mbatch_x\u001b[0m\u001b[0;34m,\u001b[0m\u001b[0my_true\u001b[0m\u001b[0;34m:\u001b[0m\u001b[0mbatch_y\u001b[0m\u001b[0;34m}\u001b[0m\u001b[0;34m)\u001b[0m\u001b[0;34m\u001b[0m\u001b[0;34m\u001b[0m\u001b[0m\n\u001b[0m\u001b[1;32m     13\u001b[0m \u001b[0;34m\u001b[0m\u001b[0m\n\u001b[1;32m     14\u001b[0m     \u001b[0;31m# Test the Train Model\u001b[0m\u001b[0;34m\u001b[0m\u001b[0;34m\u001b[0m\u001b[0;34m\u001b[0m\u001b[0m\n",
      "\u001b[0;32m~/Library/Python/3.7/lib/python/site-packages/tensorflow/python/client/session.py\u001b[0m in \u001b[0;36mrun\u001b[0;34m(self, fetches, feed_dict, options, run_metadata)\u001b[0m\n\u001b[1;32m    966\u001b[0m     \u001b[0;32mtry\u001b[0m\u001b[0;34m:\u001b[0m\u001b[0;34m\u001b[0m\u001b[0;34m\u001b[0m\u001b[0m\n\u001b[1;32m    967\u001b[0m       result = self._run(None, fetches, feed_dict, options_ptr,\n\u001b[0;32m--> 968\u001b[0;31m                          run_metadata_ptr)\n\u001b[0m\u001b[1;32m    969\u001b[0m       \u001b[0;32mif\u001b[0m \u001b[0mrun_metadata\u001b[0m\u001b[0;34m:\u001b[0m\u001b[0;34m\u001b[0m\u001b[0;34m\u001b[0m\u001b[0m\n\u001b[1;32m    970\u001b[0m         \u001b[0mproto_data\u001b[0m \u001b[0;34m=\u001b[0m \u001b[0mtf_session\u001b[0m\u001b[0;34m.\u001b[0m\u001b[0mTF_GetBuffer\u001b[0m\u001b[0;34m(\u001b[0m\u001b[0mrun_metadata_ptr\u001b[0m\u001b[0;34m)\u001b[0m\u001b[0;34m\u001b[0m\u001b[0;34m\u001b[0m\u001b[0m\n",
      "\u001b[0;32m~/Library/Python/3.7/lib/python/site-packages/tensorflow/python/client/session.py\u001b[0m in \u001b[0;36m_run\u001b[0;34m(self, handle, fetches, feed_dict, options, run_metadata)\u001b[0m\n\u001b[1;32m   1165\u001b[0m                 \u001b[0;34m'Cannot feed value of shape %r for Tensor %r, '\u001b[0m\u001b[0;34m\u001b[0m\u001b[0;34m\u001b[0m\u001b[0m\n\u001b[1;32m   1166\u001b[0m                 \u001b[0;34m'which has shape %r'\u001b[0m \u001b[0;34m%\u001b[0m\u001b[0;34m\u001b[0m\u001b[0;34m\u001b[0m\u001b[0m\n\u001b[0;32m-> 1167\u001b[0;31m                 (np_val.shape, subfeed_t.name, str(subfeed_t.get_shape())))\n\u001b[0m\u001b[1;32m   1168\u001b[0m           \u001b[0;32mif\u001b[0m \u001b[0;32mnot\u001b[0m \u001b[0mself\u001b[0m\u001b[0;34m.\u001b[0m\u001b[0mgraph\u001b[0m\u001b[0;34m.\u001b[0m\u001b[0mis_feedable\u001b[0m\u001b[0;34m(\u001b[0m\u001b[0msubfeed_t\u001b[0m\u001b[0;34m)\u001b[0m\u001b[0;34m:\u001b[0m\u001b[0;34m\u001b[0m\u001b[0;34m\u001b[0m\u001b[0m\n\u001b[1;32m   1169\u001b[0m             \u001b[0;32mraise\u001b[0m \u001b[0mValueError\u001b[0m\u001b[0;34m(\u001b[0m\u001b[0;34m'Tensor %s may not be fed.'\u001b[0m \u001b[0;34m%\u001b[0m \u001b[0msubfeed_t\u001b[0m\u001b[0;34m)\u001b[0m\u001b[0;34m\u001b[0m\u001b[0;34m\u001b[0m\u001b[0m\n",
      "\u001b[0;31mValueError\u001b[0m: Cannot feed value of shape (7, 1017, 110) for Tensor 'Placeholder_5:0', which has shape '(None, 1100)'"
     ]
    }
   ],
   "source": [
    "with tf.compat.v1.Session() as sess:\n",
    "    sess.run(init)\n",
    "    \n",
    "    # Train the model for 1000 steps on the training set\n",
    "    # Using built in batch feeder from mnist for convenience\n",
    "    \n",
    "    for step in range(1000):\n",
    "\n",
    "        batch_x , batch_y = strike.next_batch(100)\n",
    "        \n",
    "        sess.run(train,feed_dict={x:batch_x,y_true:batch_y})\n",
    "        \n",
    "    # Test the Train Model\n",
    "    matches = tf.equal(tf.argmax(y,1),tf.argmax(y_true,1))\n",
    "    \n",
    "    acc = tf.reduce_mean(tf.cast(matches,tf.float32))\n",
    "    \n",
    "    print(sess.run(acc,feed_dict={x:strike.X_test,y_true:y_test}))"
   ]
  },
  {
   "cell_type": "code",
   "execution_count": 61,
   "metadata": {},
   "outputs": [
    {
     "output_type": "error",
     "ename": "ModuleNotFoundError",
     "evalue": "No module named 'tensorflow.examples'",
     "traceback": [
      "\u001b[0;31m---------------------------------------------------------------------------\u001b[0m",
      "\u001b[0;31mModuleNotFoundError\u001b[0m                       Traceback (most recent call last)",
      "\u001b[0;32m<ipython-input-61-a31311397b82>\u001b[0m in \u001b[0;36m<module>\u001b[0;34m\u001b[0m\n\u001b[0;32m----> 1\u001b[0;31m \u001b[0;32mfrom\u001b[0m \u001b[0mtensorflow\u001b[0m\u001b[0;34m.\u001b[0m\u001b[0mexamples\u001b[0m\u001b[0;34m.\u001b[0m\u001b[0mtutorials\u001b[0m\u001b[0;34m.\u001b[0m\u001b[0mmnist\u001b[0m \u001b[0;32mimport\u001b[0m \u001b[0minput_data\u001b[0m\u001b[0;34m\u001b[0m\u001b[0;34m\u001b[0m\u001b[0m\n\u001b[0m",
      "\u001b[0;31mModuleNotFoundError\u001b[0m: No module named 'tensorflow.examples'"
     ]
    }
   ],
   "source": [
    "from tensorflow.examples.tutorials.mnist import input_data"
   ]
  },
  {
   "cell_type": "code",
   "execution_count": null,
   "metadata": {},
   "outputs": [],
   "source": []
  }
 ],
 "metadata": {
  "kernelspec": {
   "name": "python3",
   "display_name": "Python 3",
   "language": "python"
  }
 },
 "nbformat": 4,
 "nbformat_minor": 5
}